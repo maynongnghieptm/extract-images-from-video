{
 "cells": [
  {
   "cell_type": "code",
   "execution_count": 24,
   "metadata": {},
   "outputs": [],
   "source": [
    "import cv2\n",
    "from pytube import YouTube\n",
    "import os\n",
    "import time"
   ]
  },
  {
   "cell_type": "code",
   "execution_count": 7,
   "metadata": {},
   "outputs": [],
   "source": [
    "def download_youtube_video(url, output_path):\n",
    "    try:\n",
    "        # Create a YouTube object\n",
    "        yt = YouTube(url)\n",
    "\n",
    "        # Get the highest resolution stream available\n",
    "        video_stream = yt.streams.get_highest_resolution()\n",
    "\n",
    "        # Download the video\n",
    "        video_stream.download(output_path)\n",
    "\n",
    "        return video_stream.default_filename\n",
    "    except Exception as e:\n",
    "        print(\"Error: \", e)\n",
    "        return None"
   ]
  },
  {
   "cell_type": "code",
   "execution_count": 28,
   "metadata": {},
   "outputs": [],
   "source": [
    "def extract_frames(video_path, output_folder, label, interval=1):\n",
    "    # Open the video file\n",
    "    vidcap = cv2.VideoCapture(video_path)\n",
    "\n",
    "    # Get the fps of the video\n",
    "    fps = vidcap.get(cv2.CAP_PROP_FPS)\n",
    "\n",
    "    # Calculate the frame interval based on the desired time interval (in seconds)\n",
    "    # Time interval: Extract the image from video in every \"time interval\"\n",
    "    frame_interval = int(fps * interval)\n",
    "\n",
    "    frame_count = 0\n",
    "    current_time = 0\n",
    "\n",
    "    while True:\n",
    "        # Read the next frame\n",
    "        ret, frame = vidcap.read()\n",
    "\n",
    "        # Break the loop if no frame is retrieved\n",
    "        if not ret: \n",
    "            break\n",
    "\n",
    "        # Check if it's time to save the frame\n",
    "        if frame_count % frame_interval == 0:\n",
    "            # Construct the output file path\n",
    "            output_file = f\"{output_folder}/{label}_{time.time()}.jpg\"\n",
    "\n",
    "            # Save the frame as an image\n",
    "            cv2.imwrite(output_file, frame)\n",
    "\n",
    "            # Print progress\n",
    "            print(f\"Saved frame {frame_count} at time {current_time} seconds\")\n",
    "        \n",
    "        # Increment frame count and current time\n",
    "        frame_count += 1\n",
    "        current_time = frame_count / fps\n",
    "    \n",
    "    vidcap.release()\n",
    "\n",
    "    print(\"Frame extraction completed.\")"
   ]
  },
  {
   "cell_type": "code",
   "execution_count": 39,
   "metadata": {},
   "outputs": [
    {
     "name": "stdout",
     "output_type": "stream",
     "text": [
      "D:\\HongSon\\youtube_videos\\Con Nghé - Con Trâu Nhạc Thiếu Nhi [Official HD].mp4\n",
      "D:\\HongSon\\frames\\buffalo-1\n",
      "Create success\n",
      "Saved frame 0 at time 0 seconds\n",
      "Saved frame 119 at time 3.9706333333333332 seconds\n",
      "Saved frame 238 at time 7.9412666666666665 seconds\n",
      "Saved frame 357 at time 11.911900000000001 seconds\n",
      "Saved frame 476 at time 15.882533333333333 seconds\n",
      "Saved frame 595 at time 19.853166666666667 seconds\n",
      "Saved frame 714 at time 23.823800000000002 seconds\n",
      "Saved frame 833 at time 27.794433333333334 seconds\n",
      "Saved frame 952 at time 31.765066666666666 seconds\n",
      "Saved frame 1071 at time 35.7357 seconds\n",
      "Saved frame 1190 at time 39.70633333333333 seconds\n",
      "Saved frame 1309 at time 43.676966666666665 seconds\n",
      "Saved frame 1428 at time 47.647600000000004 seconds\n",
      "Saved frame 1547 at time 51.618233333333336 seconds\n",
      "Saved frame 1666 at time 55.58886666666667 seconds\n",
      "Saved frame 1785 at time 59.5595 seconds\n",
      "Saved frame 1904 at time 63.53013333333333 seconds\n",
      "Saved frame 2023 at time 67.50076666666666 seconds\n",
      "Saved frame 2142 at time 71.4714 seconds\n",
      "Saved frame 2261 at time 75.44203333333334 seconds\n",
      "Saved frame 2380 at time 79.41266666666667 seconds\n",
      "Saved frame 2499 at time 83.3833 seconds\n",
      "Saved frame 2618 at time 87.35393333333333 seconds\n",
      "Saved frame 2737 at time 91.32456666666667 seconds\n",
      "Saved frame 2856 at time 95.29520000000001 seconds\n",
      "Saved frame 2975 at time 99.26583333333333 seconds\n",
      "Saved frame 3094 at time 103.23646666666667 seconds\n",
      "Saved frame 3213 at time 107.2071 seconds\n",
      "Saved frame 3332 at time 111.17773333333334 seconds\n",
      "Saved frame 3451 at time 115.14836666666667 seconds\n",
      "Saved frame 3570 at time 119.119 seconds\n",
      "Saved frame 3689 at time 123.08963333333334 seconds\n",
      "Saved frame 3808 at time 127.06026666666666 seconds\n",
      "Saved frame 3927 at time 131.0309 seconds\n",
      "Saved frame 4046 at time 135.00153333333333 seconds\n",
      "Saved frame 4165 at time 138.97216666666668 seconds\n",
      "Saved frame 4284 at time 142.9428 seconds\n",
      "Saved frame 4403 at time 146.91343333333333 seconds\n",
      "Saved frame 4522 at time 150.88406666666668 seconds\n",
      "Saved frame 4641 at time 154.8547 seconds\n",
      "Saved frame 4760 at time 158.82533333333333 seconds\n",
      "Saved frame 4879 at time 162.79596666666666 seconds\n",
      "Saved frame 4998 at time 166.7666 seconds\n",
      "Saved frame 5117 at time 170.73723333333334 seconds\n",
      "Saved frame 5236 at time 174.70786666666666 seconds\n",
      "Saved frame 5355 at time 178.6785 seconds\n",
      "Saved frame 5474 at time 182.64913333333334 seconds\n",
      "Saved frame 5593 at time 186.61976666666666 seconds\n",
      "Saved frame 5712 at time 190.59040000000002 seconds\n",
      "Saved frame 5831 at time 194.56103333333334 seconds\n",
      "Saved frame 5950 at time 198.53166666666667 seconds\n",
      "Saved frame 6069 at time 202.5023 seconds\n",
      "Frame extraction completed.\n"
     ]
    }
   ],
   "source": [
    "# video_path = \"C:\\\\Users\\\\phung\\\\Videos\\\\Captures\\\\test.mp4\"\n",
    "youtube_url = \"https://www.youtube.com/watch?v=UpciUaQVTYo\"\n",
    "save_youtube_video_path = \"D:\\\\HongSon\\\\youtube_videos\"\n",
    "\n",
    "label = \"buffalo-1\"\n",
    "\n",
    "video_name = download_youtube_video(youtube_url, save_youtube_video_path)\n",
    "\n",
    "video_path = f\"{save_youtube_video_path}\\\\{video_name}\"\n",
    "print(video_path)\n",
    "output_folder = f\"D:\\\\HongSon\\\\frames\\\\{label}\"\n",
    "print(output_folder)\n",
    "try: \n",
    "    os.makedirs(output_folder, exist_ok=True)\n",
    "    print(\"Create success\")\n",
    "except Exception as e:\n",
    "    print(\"Error when create folder: \", e)\n",
    "\n",
    "interval = 4\n",
    "\n",
    "extract_frames(video_path, output_folder, label, interval)"
   ]
  },
  {
   "cell_type": "code",
   "execution_count": 35,
   "metadata": {},
   "outputs": [],
   "source": [
    "def count_files(folder_path):\n",
    "    print(\"Number of file in folder: \", len(os.listdir(folder_path)))"
   ]
  },
  {
   "cell_type": "code",
   "execution_count": 38,
   "metadata": {},
   "outputs": [
    {
     "name": "stdout",
     "output_type": "stream",
     "text": [
      "Number of file in folder:  955\n"
     ]
    }
   ],
   "source": [
    "count_files(\"D:\\\\HongSon\\\\frames\\\\buffalo\")"
   ]
  },
  {
   "cell_type": "code",
   "execution_count": null,
   "metadata": {},
   "outputs": [],
   "source": []
  }
 ],
 "metadata": {
  "kernelspec": {
   "display_name": "base",
   "language": "python",
   "name": "python3"
  },
  "language_info": {
   "codemirror_mode": {
    "name": "ipython",
    "version": 3
   },
   "file_extension": ".py",
   "mimetype": "text/x-python",
   "name": "python",
   "nbconvert_exporter": "python",
   "pygments_lexer": "ipython3",
   "version": "3.10.9"
  },
  "orig_nbformat": 4
 },
 "nbformat": 4,
 "nbformat_minor": 2
}
